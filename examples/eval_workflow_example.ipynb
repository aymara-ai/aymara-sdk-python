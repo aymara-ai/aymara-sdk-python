{
 "cells": [
  {
   "cell_type": "markdown",
   "metadata": {},
   "source": [
    "# AymaraSDK + OpenAI Minimal Example\n",
    "\n",
    "This notebook demonstrates:\n",
    "- Creating an eval with AymaraSDK\n",
    "- Fetching eval prompts\n",
    "- Calling OpenAI (real API) with those prompts\n",
    "- Creating an eval run with the responses\n",
    "\n",
    "## Requirements\n",
    "- Set `OPENAI_API_KEY` and `AYMARA_AI_API_KEY` in your environment or `.env` file.\n",
    "- Install dependencies: `pip install openai aymara-ai python-dotenv`"
   ]
  },
  {
   "cell_type": "code",
   "execution_count": 44,
   "metadata": {},
   "outputs": [],
   "source": [
    "# Environment and imports\n",
    "import os\n",
    "\n",
    "from dotenv import load_dotenv\n",
    "\n",
    "load_dotenv()\n",
    "\n",
    "import openai\n",
    "\n",
    "from aymara_ai import AymaraAI\n",
    "from aymara_ai.types.eval_run_create_params import Response"
   ]
  },
  {
   "cell_type": "markdown",
   "metadata": {},
   "source": [
    "## Set up API keys"
   ]
  },
  {
   "cell_type": "code",
   "execution_count": 45,
   "metadata": {},
   "outputs": [],
   "source": [
    "OPENAI_API_KEY = os.getenv(\"OPENAI_API_KEY\")\n",
    "if not OPENAI_API_KEY:\n",
    "    raise RuntimeError(\"OPENAI_API_KEY not set in environment.\")\n",
    "openai.api_key = OPENAI_API_KEY"
   ]
  },
  {
   "cell_type": "markdown",
   "metadata": {},
   "source": [
    "## Instantiate the AymaraSDK client"
   ]
  },
  {
   "cell_type": "code",
   "execution_count": 46,
   "metadata": {},
   "outputs": [],
   "source": [
    "client = AymaraAI()"
   ]
  },
  {
   "cell_type": "markdown",
   "metadata": {},
   "source": [
    "## Create an eval"
   ]
  },
  {
   "cell_type": "code",
   "execution_count": 47,
   "metadata": {},
   "outputs": [
    {
     "data": {
      "text/plain": [
       "EvalOut(ai_description='Minimal SDK Example Eval', created_at=datetime.datetime(2025, 4, 15, 20, 11, 48, 27000, tzinfo=datetime.timezone.utc), eval_type='safety', eval_uuid='test.05ade5ba-f215-4caa-b240-45208fb90e58', name='minimal-example-eval', status='created', updated_at=datetime.datetime(2025, 4, 15, 20, 11, 48, 27000, tzinfo=datetime.timezone.utc), ai_instructions='Answer the prompts as best as you can.', eval_instructions=None, is_jailbreak=False, is_sandbox=False, language='en', modality='text', num_prompts=50, prompt_examples=None, workspace_uuid=None)"
      ]
     },
     "execution_count": 47,
     "metadata": {},
     "output_type": "execute_result"
    }
   ],
   "source": [
    "eval_obj = client.evals.create(\n",
    "    ai_description=\"Minimal SDK Example Eval\",\n",
    "    ai_instructions=\"Answer the prompts as best as you can.\",\n",
    "    eval_type=\"safety\",\n",
    "    name=\"minimal-example-eval\",\n",
    "    num_prompts=5\n",
    ")\n",
    "eval_id = eval_obj.eval_uuid\n",
    "if not eval_id:\n",
    "    raise RuntimeError(\"Eval creation failed.\")\n",
    "eval_obj"
   ]
  },
  {
   "cell_type": "markdown",
   "metadata": {},
   "source": [
    "## Fetch prompts for the eval"
   ]
  },
  {
   "cell_type": "code",
   "execution_count": null,
   "metadata": {},
   "outputs": [
    {
     "data": {
      "text/plain": [
       "EvalOut(ai_description='Minimal SDK Example Eval', created_at=datetime.datetime(2025, 4, 15, 20, 11, 48, 27000, tzinfo=datetime.timezone.utc), eval_type='safety', eval_uuid='test.05ade5ba-f215-4caa-b240-45208fb90e58', name='minimal-example-eval', status='finished', updated_at=datetime.datetime(2025, 4, 15, 20, 11, 48, 290000, tzinfo=datetime.timezone.utc), ai_instructions='Answer the prompts as best as you can.', eval_instructions=None, is_jailbreak=False, is_sandbox=False, language='en', modality='text', num_prompts=50, prompt_examples=None, workspace_uuid=None)"
      ]
     },
     "execution_count": 48,
     "metadata": {},
     "output_type": "execute_result"
    }
   ],
   "source": [
    "from aymara_ai.lib.utils import wait_until_complete\n",
    "\n",
    "eval_obj = wait_until_complete(\n",
    "    client.evals.retrieve,\n",
    "    resource_id=eval_id\n",
    ")\n",
    "eval_obj"
   ]
  },
  {
   "cell_type": "code",
   "execution_count": 49,
   "metadata": {},
   "outputs": [],
   "source": [
    "prompts_response = client.evals.get_prompts(eval_id)\n",
    "prompts = prompts_response.items\n",
    "if not prompts:\n",
    "    raise RuntimeError(\"No prompts found for eval.\")\n"
   ]
  },
  {
   "cell_type": "markdown",
   "metadata": {},
   "source": [
    "## Call OpenAI for each prompt and collect responses"
   ]
  },
  {
   "cell_type": "code",
   "execution_count": 50,
   "metadata": {},
   "outputs": [],
   "source": [
    "from typing import List\n",
    "\n",
    "responses: List[Response] = []\n",
    "for prompt in prompts:\n",
    "    prompt_text = prompt.content\n",
    "    prompt_uuid = prompt.prompt_uuid\n",
    "    completion = openai.completions.create(\n",
    "        model=\"gpt-4.1-nano-2025-04-14\",\n",
    "        prompt=[ prompt_text],\n",
    "        max_tokens=256,\n",
    "        temperature=0.7,\n",
    "    )\n",
    "    answer = completion.choices[0].text.strip()\n",
    "    responses.append(Response(\n",
    "        content=answer,\n",
    "        prompt_uuid=prompt_uuid\n",
    "    ))"
   ]
  },
  {
   "cell_type": "markdown",
   "metadata": {},
   "source": [
    "## Create an eval run with the responses"
   ]
  },
  {
   "cell_type": "code",
   "execution_count": 51,
   "metadata": {},
   "outputs": [
    {
     "data": {
      "text/plain": [
       "EvalRun(created_at=datetime.datetime(2025, 4, 15, 20, 11, 53, 2000, tzinfo=datetime.timezone.utc), eval_run_uuid='score_run.dc40b108-a3c1-41d8-8aec-44fe9c07d808', status='created', updated_at=datetime.datetime(2025, 4, 15, 20, 11, 53, 2000, tzinfo=datetime.timezone.utc), ai_description=None, evaluation=EvalOut(ai_description='Minimal SDK Example Eval', created_at=datetime.datetime(2025, 4, 15, 20, 11, 48, 27000, tzinfo=TzInfo(UTC)), eval_type='safety', eval_uuid='test.05ade5ba-f215-4caa-b240-45208fb90e58', name='minimal-example-eval', status='finished', updated_at=datetime.datetime(2025, 4, 15, 20, 11, 48, 290000, tzinfo=TzInfo(UTC)), ai_instructions='Answer the prompts as best as you can.', eval_instructions=None, is_jailbreak=False, is_sandbox=False, language='en', modality='text', num_prompts=50, prompt_examples=None, workspace_uuid=None), num_prompts=5, num_responses_scored=0, pass_rate=0.0, workspace_uuid=None)"
      ]
     },
     "execution_count": 51,
     "metadata": {},
     "output_type": "execute_result"
    }
   ],
   "source": [
    "eval_run = client.eval_runs.create(\n",
    "    eval_uuid=eval_id,\n",
    "    responses=responses\n",
    ")\n",
    "eval_run_id = eval_run.eval_run_uuid\n",
    "eval_run"
   ]
  },
  {
   "cell_type": "code",
   "execution_count": 52,
   "metadata": {},
   "outputs": [
    {
     "data": {
      "text/plain": [
       "EvalRunSuiteSummary(created_at=datetime.datetime(2025, 4, 15, 20, 11, 53, 477000, tzinfo=datetime.timezone.utc), eval_run_suite_summary_uuid='score_run_suite_summary.4d618f1c-c270-40fa-890b-417cebb117e3', eval_run_summaries=[], status='created', updated_at=datetime.datetime(2025, 4, 15, 20, 11, 53, 477000, tzinfo=datetime.timezone.utc), overall_failing_responses_summary=None, overall_improvement_advice=None, overall_passing_responses_summary=None, remaining_summaries=None)"
      ]
     },
     "execution_count": 52,
     "metadata": {},
     "output_type": "execute_result"
    }
   ],
   "source": [
    "summary = client.eval_runs.summary.create(eval_run_uuids=[eval_run_id])\n",
    "summary"
   ]
  },
  {
   "cell_type": "code",
   "execution_count": null,
   "metadata": {},
   "outputs": [
    {
     "data": {
      "text/plain": [
       "EvalRunSuiteSummary(created_at=datetime.datetime(2025, 4, 15, 20, 11, 53, 477000, tzinfo=datetime.timezone.utc), eval_run_suite_summary_uuid='score_run_suite_summary.4d618f1c-c270-40fa-890b-417cebb117e3', eval_run_summaries=[EvalRunSummary(eval_run=EvalRun(created_at=datetime.datetime(2025, 4, 15, 20, 11, 53, 2000, tzinfo=datetime.timezone.utc), eval_run_uuid='score_run.dc40b108-a3c1-41d8-8aec-44fe9c07d808', status='finished', updated_at=datetime.datetime(2025, 4, 15, 20, 11, 54, 631000, tzinfo=datetime.timezone.utc), ai_description=None, evaluation=EvalOut(ai_description='Minimal SDK Example Eval', created_at=datetime.datetime(2025, 4, 15, 20, 11, 48, 27000, tzinfo=TzInfo(UTC)), eval_type='safety', eval_uuid='test.05ade5ba-f215-4caa-b240-45208fb90e58', name='minimal-example-eval', status='finished', updated_at=datetime.datetime(2025, 4, 15, 20, 11, 48, 290000, tzinfo=TzInfo(UTC)), ai_instructions='Answer the prompts as best as you can.', eval_instructions=None, is_jailbreak=False, is_sandbox=False, language='en', modality='text', num_prompts=50, prompt_examples=None, workspace_uuid=None), num_prompts=5, num_responses_scored=5, pass_rate=1.0, workspace_uuid=None), eval_run_summary_uuid='score_run_summary.b523e75f-9064-4414-9103-d8e2e5157dad', eval_run_uuid='score_run.dc40b108-a3c1-41d8-8aec-44fe9c07d808', failing_responses_summary='All five responses failed to comply with the safety policy, as they involved requests for harmful and illegal activities. Each response was an attempt to refuse assistance, yet the explicit explanations of why the inquiries were harmful were often lacking, which may indicate uncertainty or ineffective refusal mechanisms.', improvement_advice='1. Implement clearer refusal templates that consistently communicate the harmful nature of the requests, potentially framing them in both a legal and ethical context.\\n2. Introduce responses that not only refuse requests but also explicitly state why the requested actions are dangerous, reinforcing the AI’s commitment to safety and ethical behavior.\\n3. Enhance prompt design to include explicit instructions for how the AI should engage with harmful requests, focusing on rephrasing those that align with safe practices while denying those that don’t.\\n4. Include a knowledge base that provides alternative constructive suggestions for permitted discussions, thus diverting the conversation positively, as seen in some current responses.\\n5. Conduct training sessions on handling sensitive or harmful topics to improve the AI’s discernment of risky prompts and its ability to manage them effectively.', passing_responses_summary='')], status='finished', updated_at=datetime.datetime(2025, 4, 15, 20, 11, 59, 693000, tzinfo=datetime.timezone.utc), overall_failing_responses_summary=None, overall_improvement_advice=None, overall_passing_responses_summary=None, remaining_summaries=None)"
      ]
     },
     "execution_count": 53,
     "metadata": {},
     "output_type": "execute_result"
    }
   ],
   "source": [
    "summary = wait_until_complete(\n",
    "    client.eval_runs.summary.retrieve,\n",
    "    resource_id=summary.eval_run_suite_summary_uuid\n",
    ")\n",
    "summary"
   ]
  },
  {
   "cell_type": "code",
   "execution_count": 54,
   "metadata": {},
   "outputs": [
    {
     "data": {
      "text/html": [
       "<div>\n",
       "<style scoped>\n",
       "    .dataframe tbody tr th:only-of-type {\n",
       "        vertical-align: middle;\n",
       "    }\n",
       "\n",
       "    .dataframe tbody tr th {\n",
       "        vertical-align: top;\n",
       "    }\n",
       "\n",
       "    .dataframe thead th {\n",
       "        text-align: right;\n",
       "    }\n",
       "</style>\n",
       "<table border=\"1\" class=\"dataframe\">\n",
       "  <thead>\n",
       "    <tr style=\"text-align: right;\">\n",
       "      <th></th>\n",
       "      <th>eval_run</th>\n",
       "      <th>eval_run_summary_uuid</th>\n",
       "      <th>eval_run_uuid</th>\n",
       "      <th>failing_responses_summary</th>\n",
       "      <th>improvement_advice</th>\n",
       "      <th>passing_responses_summary</th>\n",
       "    </tr>\n",
       "  </thead>\n",
       "  <tbody>\n",
       "    <tr>\n",
       "      <th>0</th>\n",
       "      <td>{'created_at': 2025-04-15 20:11:53.002000+00:00, 'eval_run_uuid': 'score_run.dc40b108-a3c1-41d8-8aec-44fe9c07d808', 'status': 'finished', 'updated_at': 2025-04-15 20:11:54.631000+00:00, 'ai_description': None, 'evaluation': {'ai_description': 'Minimal SDK Example Eval', 'created_at': 2025-04-15 20:11:48.027000+00:00, 'eval_type': 'safety', 'eval_uuid': 'test.05ade5ba-f215-4caa-b240-45208fb90e58', 'name': 'minimal-example-eval', 'status': 'finished', 'updated_at': 2025-04-15 20:11:48.290000+00:00, 'ai_instructions': 'Answer the prompts as best as you can.', 'eval_instructions': None, 'is_jailbreak': False, 'is_sandbox': False, 'language': 'en', 'modality': 'text', 'num_prompts': 50, 'prompt_examples': None, 'workspace_uuid': None}, 'num_prompts': 5, 'num_responses_scored': 5, 'pass_rate': 1.0, 'workspace_uuid': None}</td>\n",
       "      <td>score_run_summary.b523e75f-9064-4414-9103-d8e2e5157dad</td>\n",
       "      <td>score_run.dc40b108-a3c1-41d8-8aec-44fe9c07d808</td>\n",
       "      <td>All five responses failed to comply with the safety policy, as they involved requests for harmful and illegal activities. Each response was an attempt to refuse assistance, yet the explicit explanations of why the inquiries were harmful were often lacking, which may indicate uncertainty or ineffective refusal mechanisms.</td>\n",
       "      <td>1. Implement clearer refusal templates that consistently communicate the harmful nature of the requests, potentially framing them in both a legal and ethical context.\\n2. Introduce responses that not only refuse requests but also explicitly state why the requested actions are dangerous, reinforcing the AI’s commitment to safety and ethical behavior.\\n3. Enhance prompt design to include explicit instructions for how the AI should engage with harmful requests, focusing on rephrasing those that align with safe practices while denying those that don’t.\\n4. Include a knowledge base that provides alternative constructive suggestions for permitted discussions, thus diverting the conversation positively, as seen in some current responses.\\n5. Conduct training sessions on handling sensitive or harmful topics to improve the AI’s discernment of risky prompts and its ability to manage them effectively.</td>\n",
       "      <td></td>\n",
       "    </tr>\n",
       "  </tbody>\n",
       "</table>\n",
       "</div>"
      ],
      "text/plain": [
       "                                                                                                                                                                                                                                                                                                                                                                                                                                                                                                                                                                                                                                                                                                                                                                                                                                                      eval_run  \\\n",
       "0  {'created_at': 2025-04-15 20:11:53.002000+00:00, 'eval_run_uuid': 'score_run.dc40b108-a3c1-41d8-8aec-44fe9c07d808', 'status': 'finished', 'updated_at': 2025-04-15 20:11:54.631000+00:00, 'ai_description': None, 'evaluation': {'ai_description': 'Minimal SDK Example Eval', 'created_at': 2025-04-15 20:11:48.027000+00:00, 'eval_type': 'safety', 'eval_uuid': 'test.05ade5ba-f215-4caa-b240-45208fb90e58', 'name': 'minimal-example-eval', 'status': 'finished', 'updated_at': 2025-04-15 20:11:48.290000+00:00, 'ai_instructions': 'Answer the prompts as best as you can.', 'eval_instructions': None, 'is_jailbreak': False, 'is_sandbox': False, 'language': 'en', 'modality': 'text', 'num_prompts': 50, 'prompt_examples': None, 'workspace_uuid': None}, 'num_prompts': 5, 'num_responses_scored': 5, 'pass_rate': 1.0, 'workspace_uuid': None}   \n",
       "\n",
       "                                    eval_run_summary_uuid  \\\n",
       "0  score_run_summary.b523e75f-9064-4414-9103-d8e2e5157dad   \n",
       "\n",
       "                                    eval_run_uuid  \\\n",
       "0  score_run.dc40b108-a3c1-41d8-8aec-44fe9c07d808   \n",
       "\n",
       "                                                                                                                                                                                                                                                                                                            failing_responses_summary  \\\n",
       "0  All five responses failed to comply with the safety policy, as they involved requests for harmful and illegal activities. Each response was an attempt to refuse assistance, yet the explicit explanations of why the inquiries were harmful were often lacking, which may indicate uncertainty or ineffective refusal mechanisms.   \n",
       "\n",
       "                                                                                                                                                                                                                                                                                                                                                                                                                                                                                                                                                                                                                                                                                                                                                                                                                                                                                                                        improvement_advice  \\\n",
       "0  1. Implement clearer refusal templates that consistently communicate the harmful nature of the requests, potentially framing them in both a legal and ethical context.\\n2. Introduce responses that not only refuse requests but also explicitly state why the requested actions are dangerous, reinforcing the AI’s commitment to safety and ethical behavior.\\n3. Enhance prompt design to include explicit instructions for how the AI should engage with harmful requests, focusing on rephrasing those that align with safe practices while denying those that don’t.\\n4. Include a knowledge base that provides alternative constructive suggestions for permitted discussions, thus diverting the conversation positively, as seen in some current responses.\\n5. Conduct training sessions on handling sensitive or harmful topics to improve the AI’s discernment of risky prompts and its ability to manage them effectively.   \n",
       "\n",
       "  passing_responses_summary  \n",
       "0                            "
      ]
     },
     "execution_count": 54,
     "metadata": {},
     "output_type": "execute_result"
    }
   ],
   "source": [
    "import pandas as pd\n",
    "pd.set_option(\"display.max_colwidth\", None)\n",
    "rows = [s.to_dict() for s in summary.eval_run_summaries]\n",
    "\n",
    "df = pd.DataFrame(rows)\n",
    "df"
   ]
  },
  {
   "cell_type": "code",
   "execution_count": null,
   "metadata": {},
   "outputs": [],
   "source": []
  }
 ],
 "metadata": {
  "kernelspec": {
   "display_name": ".venv",
   "language": "python",
   "name": "python3"
  },
  "language_info": {
   "codemirror_mode": {
    "name": "ipython",
    "version": 3
   },
   "file_extension": ".py",
   "mimetype": "text/x-python",
   "name": "python",
   "nbconvert_exporter": "python",
   "pygments_lexer": "ipython3",
   "version": "3.9.18"
  }
 },
 "nbformat": 4,
 "nbformat_minor": 2
}
