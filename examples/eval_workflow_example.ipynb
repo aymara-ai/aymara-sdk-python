{
 "cells": [
  {
   "cell_type": "markdown",
   "metadata": {},
   "source": [
    "# AymaraSDK + OpenAI Minimal Example\n",
    "\n",
    "This notebook demonstrates:\n",
    "- Creating an eval with AymaraSDK\n",
    "- Fetching eval prompts\n",
    "- Calling OpenAI (real API) with those prompts\n",
    "- Creating an eval run with the responses\n",
    "\n",
    "## Requirements\n",
    "- Set `OPENAI_API_KEY` and `AYMARA_SDK_API_KEY` in your environment or `.env` file.\n",
    "- Install dependencies: `pip install openai aymara-sdk-python python-dotenv`"
   ]
  },
  {
   "cell_type": "code",
   "execution_count": 1,
   "metadata": {},
   "outputs": [],
   "source": [
    "# Environment and imports\n",
    "import os\n",
    "from dotenv import load_dotenv\n",
    "load_dotenv()\n",
    "\n",
    "import openai\n",
    "from aymara_sdk import AymaraSDK\n",
    "from aymara_sdk.types.eval_run_create_params import Response"
   ]
  },
  {
   "cell_type": "markdown",
   "metadata": {},
   "source": [
    "## Set up API keys"
   ]
  },
  {
   "cell_type": "code",
   "execution_count": 2,
   "metadata": {},
   "outputs": [],
   "source": [
    "OPENAI_API_KEY = os.getenv(\"OPENAI_API_KEY\")\n",
    "if not OPENAI_API_KEY:\n",
    "    raise RuntimeError(\"OPENAI_API_KEY not set in environment.\")\n",
    "openai.api_key = OPENAI_API_KEY"
   ]
  },
  {
   "cell_type": "markdown",
   "metadata": {},
   "source": [
    "## Instantiate the AymaraSDK client"
   ]
  },
  {
   "cell_type": "code",
   "execution_count": 3,
   "metadata": {},
   "outputs": [],
   "source": [
    "client = AymaraSDK()"
   ]
  },
  {
   "cell_type": "markdown",
   "metadata": {},
   "source": [
    "## Create an eval"
   ]
  },
  {
   "cell_type": "code",
   "execution_count": null,
   "metadata": {},
   "outputs": [
    {
     "name": "stdout",
     "output_type": "stream",
     "text": [
      "Created eval: test.4bd76ad0-129f-485a-bc2d-e2d227f644d8\n"
     ]
    }
   ],
   "source": [
    "eval_obj = client.evals.create(\n",
    "    ai_description=\"Minimal SDK Example Eval\",\n",
    "    ai_instructions=\"Answer the prompts as best as you can.\",\n",
    "    eval_type=\"safety\",\n",
    "    name=\"minimal-example-eval\",\n",
    "    num_prompts=5\n",
    ")\n",
    "eval_id = eval_obj.eval_uuid\n",
    "if not eval_id:\n",
    "    raise RuntimeError(\"Eval creation failed.\")\n",
    "print(f\"Created eval: {eval_id}\")"
   ]
  },
  {
   "cell_type": "markdown",
   "metadata": {},
   "source": [
    "## Fetch prompts for the eval"
   ]
  },
  {
   "cell_type": "code",
   "execution_count": null,
   "metadata": {},
   "outputs": [
    {
     "name": "stdout",
     "output_type": "stream",
     "text": [
      "Fetched 50 prompts.\n"
     ]
    }
   ],
   "source": [
    "prompts_response = client.evals.get_prompts(eval_id)\n",
    "prompts = prompts_response.items\n",
    "if not prompts:\n",
    "    raise RuntimeError(\"No prompts found for eval.\")\n",
    "print(f\"Fetched {len(prompts)} prompts.\")"
   ]
  },
  {
   "cell_type": "markdown",
   "metadata": {},
   "source": [
    "## Call OpenAI for each prompt and collect responses"
   ]
  },
  {
   "cell_type": "code",
   "execution_count": null,
   "metadata": {},
   "outputs": [],
   "source": [
    "responses: list[Response] = []\n",
    "for prompt in prompts:\n",
    "    prompt_text = prompt.content\n",
    "    prompt_uuid = prompt.prompt_uuid\n",
    "    if not prompt_uuid:\n",
    "        print(\"Prompt missing prompt_uuid, skipping.\")\n",
    "        continue\n",
    "    try:\n",
    "        completion = openai.completions.create(\n",
    "            model=\"gpt-4.1-nano-2025-04-14\",\n",
    "            prompt=[ prompt_text],\n",
    "            max_tokens=256,\n",
    "            temperature=0.7,\n",
    "        )\n",
    "        answer = completion.choices[0].text.strip()\n",
    "    except Exception as e:\n",
    "        print(f\"OpenAI call failed for prompt '{prompt_text}': {e}\")\n",
    "        answer = \"ERROR\"\n",
    "    responses.append(Response(\n",
    "        content=answer,\n",
    "        prompt_uuid=prompt_uuid\n",
    "    ))"
   ]
  },
  {
   "cell_type": "markdown",
   "metadata": {},
   "source": [
    "## Create an eval run with the responses"
   ]
  },
  {
   "cell_type": "code",
   "execution_count": null,
   "metadata": {},
   "outputs": [],
   "source": [
    "eval_run = client.eval_runs.create(\n",
    "    eval_uuid=eval_id,\n",
    "    responses=responses\n",
    ")\n",
    "eval_run_id = getattr(eval_run, \"eval_run_uuid\", None)\n",
    "print(f\"Eval run created: {eval_run_id}\")"
   ]
  }
 ],
 "metadata": {
  "kernelspec": {
   "display_name": ".venv",
   "language": "python",
   "name": "python3"
  },
  "language_info": {
   "codemirror_mode": {
    "name": "ipython",
    "version": 3
   },
   "file_extension": ".py",
   "mimetype": "text/x-python",
   "name": "python",
   "nbconvert_exporter": "python",
   "pygments_lexer": "ipython3",
   "version": "3.9.18"
  }
 },
 "nbformat": 4,
 "nbformat_minor": 2
}
